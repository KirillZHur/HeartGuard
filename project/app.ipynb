{
 "cells": [
  {
   "cell_type": "code",
   "execution_count": 6,
   "id": "initial_id",
   "metadata": {
    "collapsed": true,
    "ExecuteTime": {
     "end_time": "2023-12-06T17:40:41.566464100Z",
     "start_time": "2023-12-06T17:40:41.545422Z"
    }
   },
   "outputs": [],
   "source": [
    "import pandas as pd\n",
    "from sklearn.preprocessing import RobustScaler\n",
    "from sklearn.model_selection import train_test_split\n",
    "#Model\n",
    "from sklearn.linear_model import LogisticRegression\n",
    "from sklearn.svm import SVC\n",
    "from sklearn.tree import DecisionTreeClassifier \n",
    "from sklearn.ensemble import RandomForestClassifier\n",
    "from sklearn.ensemble import GradientBoostingClassifier\n",
    "#Evaluation\n",
    "from sklearn.metrics import accuracy_score\n",
    "from sklearn.model_selection import GridSearchCV"
   ]
  },
  {
   "cell_type": "code",
   "execution_count": 18,
   "outputs": [],
   "source": [
    "file_path = r'C:\\Users\\ikati\\Desktop\\dpp\\project\\datasets\\dataset.csv'\n",
    "df = pd.read_csv(file_path)\n",
    "# cat_features = ['sex', 'cp', 'trtbps', 'chol', 'fbs', 'restecg', 'thalachh', 'exng', 'oldpeak', 'slp', 'caa', 'thall', 'output']\n",
    "cat_features = ['sex', 'cp', 'fbs', 'restecg', 'exng', 'slp', 'caa', 'thall']"
   ],
   "metadata": {
    "collapsed": false,
    "ExecuteTime": {
     "end_time": "2023-12-06T17:59:51.153553800Z",
     "start_time": "2023-12-06T17:59:51.127555500Z"
    }
   },
   "id": "ac475873bb495173"
  },
  {
   "cell_type": "code",
   "execution_count": 19,
   "outputs": [
    {
     "data": {
      "text/plain": "Index(['age', 'trtbps', 'chol', 'thalachh', 'oldpeak', 'output', 'sex_1',\n       'cp_1', 'cp_2', 'cp_3', 'fbs_1', 'restecg_1', 'restecg_2', 'exng_1',\n       'slp_1', 'slp_2', 'caa_1', 'caa_2', 'caa_3', 'caa_4', 'thall_1',\n       'thall_2', 'thall_3'],\n      dtype='object')"
     },
     "execution_count": 19,
     "metadata": {},
     "output_type": "execute_result"
    }
   ],
   "source": [
    "#Encoding categorical festures\n",
    "df_copy = df\n",
    "df_copy = pd.get_dummies(df_copy, columns = cat_features, drop_first = True)\n",
    "\n",
    "df_copy.columns\n"
   ],
   "metadata": {
    "collapsed": false,
    "ExecuteTime": {
     "end_time": "2023-12-06T17:59:53.676443300Z",
     "start_time": "2023-12-06T17:59:53.648408400Z"
    }
   },
   "id": "b0383f27bc972bb5"
  },
  {
   "cell_type": "code",
   "execution_count": 20,
   "outputs": [
    {
     "data": {
      "text/plain": "        age  trtbps      chol  thalachh  oldpeak  sex_1  cp_1  cp_2  cp_3  \\\n0  0.592593    0.75 -0.110236 -0.092308   0.9375      1     0     0     1   \n1 -1.333333    0.00  0.157480  1.046154   1.6875      1     0     1     0   \n2 -1.037037    0.00 -0.566929  0.584615   0.3750      0     1     0     0   \n3  0.074074   -0.50 -0.062992  0.769231   0.0000      1     1     0     0   \n4  0.148148   -0.50  1.795276  0.307692  -0.1250      0     0     0     0   \n\n   fbs_1  ...  exng_1  slp_1  slp_2  caa_1  caa_2  caa_3  caa_4  thall_1  \\\n0      1  ...       0      0      0      0      0      0      0        1   \n1      0  ...       0      0      0      0      0      0      0        0   \n2      0  ...       0      0      1      0      0      0      0        0   \n3      0  ...       0      0      1      0      0      0      0        0   \n4      0  ...       1      0      1      0      0      0      0        0   \n\n   thall_2  thall_3  \n0        0        0  \n1        1        0  \n2        1        0  \n3        1        0  \n4        1        0  \n\n[5 rows x 22 columns]",
      "text/html": "<div>\n<style scoped>\n    .dataframe tbody tr th:only-of-type {\n        vertical-align: middle;\n    }\n\n    .dataframe tbody tr th {\n        vertical-align: top;\n    }\n\n    .dataframe thead th {\n        text-align: right;\n    }\n</style>\n<table border=\"1\" class=\"dataframe\">\n  <thead>\n    <tr style=\"text-align: right;\">\n      <th></th>\n      <th>age</th>\n      <th>trtbps</th>\n      <th>chol</th>\n      <th>thalachh</th>\n      <th>oldpeak</th>\n      <th>sex_1</th>\n      <th>cp_1</th>\n      <th>cp_2</th>\n      <th>cp_3</th>\n      <th>fbs_1</th>\n      <th>...</th>\n      <th>exng_1</th>\n      <th>slp_1</th>\n      <th>slp_2</th>\n      <th>caa_1</th>\n      <th>caa_2</th>\n      <th>caa_3</th>\n      <th>caa_4</th>\n      <th>thall_1</th>\n      <th>thall_2</th>\n      <th>thall_3</th>\n    </tr>\n  </thead>\n  <tbody>\n    <tr>\n      <th>0</th>\n      <td>0.592593</td>\n      <td>0.75</td>\n      <td>-0.110236</td>\n      <td>-0.092308</td>\n      <td>0.9375</td>\n      <td>1</td>\n      <td>0</td>\n      <td>0</td>\n      <td>1</td>\n      <td>1</td>\n      <td>...</td>\n      <td>0</td>\n      <td>0</td>\n      <td>0</td>\n      <td>0</td>\n      <td>0</td>\n      <td>0</td>\n      <td>0</td>\n      <td>1</td>\n      <td>0</td>\n      <td>0</td>\n    </tr>\n    <tr>\n      <th>1</th>\n      <td>-1.333333</td>\n      <td>0.00</td>\n      <td>0.157480</td>\n      <td>1.046154</td>\n      <td>1.6875</td>\n      <td>1</td>\n      <td>0</td>\n      <td>1</td>\n      <td>0</td>\n      <td>0</td>\n      <td>...</td>\n      <td>0</td>\n      <td>0</td>\n      <td>0</td>\n      <td>0</td>\n      <td>0</td>\n      <td>0</td>\n      <td>0</td>\n      <td>0</td>\n      <td>1</td>\n      <td>0</td>\n    </tr>\n    <tr>\n      <th>2</th>\n      <td>-1.037037</td>\n      <td>0.00</td>\n      <td>-0.566929</td>\n      <td>0.584615</td>\n      <td>0.3750</td>\n      <td>0</td>\n      <td>1</td>\n      <td>0</td>\n      <td>0</td>\n      <td>0</td>\n      <td>...</td>\n      <td>0</td>\n      <td>0</td>\n      <td>1</td>\n      <td>0</td>\n      <td>0</td>\n      <td>0</td>\n      <td>0</td>\n      <td>0</td>\n      <td>1</td>\n      <td>0</td>\n    </tr>\n    <tr>\n      <th>3</th>\n      <td>0.074074</td>\n      <td>-0.50</td>\n      <td>-0.062992</td>\n      <td>0.769231</td>\n      <td>0.0000</td>\n      <td>1</td>\n      <td>1</td>\n      <td>0</td>\n      <td>0</td>\n      <td>0</td>\n      <td>...</td>\n      <td>0</td>\n      <td>0</td>\n      <td>1</td>\n      <td>0</td>\n      <td>0</td>\n      <td>0</td>\n      <td>0</td>\n      <td>0</td>\n      <td>1</td>\n      <td>0</td>\n    </tr>\n    <tr>\n      <th>4</th>\n      <td>0.148148</td>\n      <td>-0.50</td>\n      <td>1.795276</td>\n      <td>0.307692</td>\n      <td>-0.1250</td>\n      <td>0</td>\n      <td>0</td>\n      <td>0</td>\n      <td>0</td>\n      <td>0</td>\n      <td>...</td>\n      <td>1</td>\n      <td>0</td>\n      <td>1</td>\n      <td>0</td>\n      <td>0</td>\n      <td>0</td>\n      <td>0</td>\n      <td>0</td>\n      <td>1</td>\n      <td>0</td>\n    </tr>\n  </tbody>\n</table>\n<p>5 rows × 22 columns</p>\n</div>"
     },
     "execution_count": 20,
     "metadata": {},
     "output_type": "execute_result"
    }
   ],
   "source": [
    "X = df_copy.drop(['output'], axis = 1)\n",
    "Y = df_copy[['output']]\n",
    "rb_sc = RobustScaler()\n",
    "cont_features = ['age', 'chol', 'trtbps', 'thalachh', 'oldpeak']\n",
    "\n",
    "X[cont_features] = rb_sc.fit_transform(X[cont_features])\n",
    "X.head()"
   ],
   "metadata": {
    "collapsed": false,
    "ExecuteTime": {
     "end_time": "2023-12-06T18:02:06.473437600Z",
     "start_time": "2023-12-06T18:02:06.251062300Z"
    }
   },
   "id": "75b3b5fc00ad37da"
  },
  {
   "cell_type": "code",
   "execution_count": 21,
   "outputs": [],
   "source": [
    "x_train, x_test, y_train, y_test = train_test_split(X, Y, test_size = 0.2, random_state = 42)"
   ],
   "metadata": {
    "collapsed": false,
    "ExecuteTime": {
     "end_time": "2023-12-06T18:04:32.723846900Z",
     "start_time": "2023-12-06T18:04:32.683629900Z"
    }
   },
   "id": "42d1cecc092cea59"
  },
  {
   "cell_type": "code",
   "execution_count": 27,
   "outputs": [
    {
     "data": {
      "text/plain": "0.8688524590163934"
     },
     "execution_count": 27,
     "metadata": {},
     "output_type": "execute_result"
    }
   ],
   "source": [
    "model1 = SVC(kernel='linear', random_state = 42)\n",
    "model1.fit(x_train, y_train.values.ravel())\n",
    "y_pred = model1.predict(x_test)\n",
    "acc_m1 = accuracy_score(y_test, y_pred) * 100\n",
    "accuracy_score(y_test, y_pred)"
   ],
   "metadata": {
    "collapsed": false,
    "ExecuteTime": {
     "end_time": "2023-12-06T18:07:01.519080600Z",
     "start_time": "2023-12-06T18:07:01.481082500Z"
    }
   },
   "id": "a291b27fa32297ad"
  },
  {
   "cell_type": "code",
   "execution_count": 28,
   "outputs": [
    {
     "data": {
      "text/plain": "0.9016393442622951"
     },
     "execution_count": 28,
     "metadata": {},
     "output_type": "execute_result"
    }
   ],
   "source": [
    "model2 = LogisticRegression()\n",
    "model2.fit(x_train, y_train.values.ravel())\n",
    "y_pred = model2.predict(x_test)\n",
    "acc_m2 = accuracy_score(y_test, y_pred) * 100\n",
    "accuracy_score(y_test, y_pred)"
   ],
   "metadata": {
    "collapsed": false,
    "ExecuteTime": {
     "end_time": "2023-12-06T18:07:01.912266300Z",
     "start_time": "2023-12-06T18:07:01.866264700Z"
    }
   },
   "id": "82b941144754cf16"
  },
  {
   "cell_type": "code",
   "execution_count": 29,
   "outputs": [
    {
     "data": {
      "text/plain": "0.7540983606557377"
     },
     "execution_count": 29,
     "metadata": {},
     "output_type": "execute_result"
    }
   ],
   "source": [
    "model3 = DecisionTreeClassifier()\n",
    "model3.fit(x_train, y_train)\n",
    "y_pred = model3.predict(x_test)\n",
    "acc_m3 = accuracy_score(y_test, y_pred) * 100\n",
    "accuracy_score(y_test, y_pred)"
   ],
   "metadata": {
    "collapsed": false,
    "ExecuteTime": {
     "end_time": "2023-12-06T18:07:02.335796300Z",
     "start_time": "2023-12-06T18:07:02.296750Z"
    }
   },
   "id": "8078f40963e34b64"
  },
  {
   "cell_type": "code",
   "execution_count": 30,
   "outputs": [
    {
     "data": {
      "text/plain": "0.819672131147541"
     },
     "execution_count": 30,
     "metadata": {},
     "output_type": "execute_result"
    }
   ],
   "source": [
    "model4 = RandomForestClassifier()\n",
    "model4.fit(x_train, y_train.values.ravel())\n",
    "y_pred = model4.predict(x_test)\n",
    "acc_m4 = accuracy_score(y_test, y_pred) * 100\n",
    "\n",
    "accuracy_score(y_test, y_pred)"
   ],
   "metadata": {
    "collapsed": false,
    "ExecuteTime": {
     "end_time": "2023-12-06T18:07:03.570057800Z",
     "start_time": "2023-12-06T18:07:03.426986Z"
    }
   },
   "id": "e189401c01d2248b"
  },
  {
   "cell_type": "code",
   "execution_count": 31,
   "outputs": [
    {
     "data": {
      "text/plain": "0.7868852459016393"
     },
     "execution_count": 31,
     "metadata": {},
     "output_type": "execute_result"
    }
   ],
   "source": [
    "model5 = GradientBoostingClassifier()\n",
    "model5.fit(x_train, y_train.values.ravel())\n",
    "y_pred = model5.predict(x_test)\n",
    "acc_m5 = accuracy_score(y_test, y_pred) * 100\n",
    "accuracy_score(y_test, y_pred)"
   ],
   "metadata": {
    "collapsed": false,
    "ExecuteTime": {
     "end_time": "2023-12-06T18:07:04.129541300Z",
     "start_time": "2023-12-06T18:07:04.043529200Z"
    }
   },
   "id": "16dbaeba1b811db7"
  },
  {
   "cell_type": "code",
   "execution_count": null,
   "outputs": [],
   "source": [],
   "metadata": {
    "collapsed": false
   },
   "id": "56dd422b8f74a1e7"
  }
 ],
 "metadata": {
  "kernelspec": {
   "display_name": "Python 3",
   "language": "python",
   "name": "python3"
  },
  "language_info": {
   "codemirror_mode": {
    "name": "ipython",
    "version": 2
   },
   "file_extension": ".py",
   "mimetype": "text/x-python",
   "name": "python",
   "nbconvert_exporter": "python",
   "pygments_lexer": "ipython2",
   "version": "2.7.6"
  }
 },
 "nbformat": 4,
 "nbformat_minor": 5
}
